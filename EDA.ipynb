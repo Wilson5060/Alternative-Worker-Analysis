{
 "cells": [
  {
   "cell_type": "code",
   "execution_count": 25,
   "id": "1d01ef07",
   "metadata": {},
   "outputs": [],
   "source": [
    "import pandas as pd\n",
    "import numpy as np"
   ]
  },
  {
   "cell_type": "code",
   "execution_count": 26,
   "id": "be1e1c23",
   "metadata": {},
   "outputs": [
    {
     "name": "stdout",
     "output_type": "stream",
     "text": [
      "(17749, 60)\n"
     ]
    },
    {
     "data": {
      "text/plain": [
       "(17749, 30)"
      ]
     },
     "execution_count": 26,
     "metadata": {},
     "output_type": "execute_result"
    }
   ],
   "source": [
    "GSS = pd.read_csv(\"GSS.csv\")\n",
    "pd.set_option('display.max_columns', None)\n",
    "print(GSS.shape)\n",
    "GSS.head(2)\n",
    "\n",
    "# Selecting relevant variables -> for future codes, make selection of variables more versatile \n",
    "\n",
    "relevant_columns = ['year', 'id_', 'ballot', # Identifiers\n",
    "    'happy', 'satjob', 'life', 'health', 'satfin',  # Satisfaction-related columns\n",
    "    'age', 'sex', 'race', 'marital', 'educ', 'region',  # Demographics\n",
    "    'wrktype', 'wrksched', 'hrs2', 'weekswrk', 'indus10', 'occ10', 'occ10_code', 'MPROFF', 'MPROFF_Label', 'conrinc', 'wrkslf',  # Work info\n",
    "    'jobpromo', 'learnnew', 'workfast', 'opdevel', 'fairearn']  # Job quality\n",
    "\n",
    "GSS_filtered= GSS[relevant_columns]\n",
    "GSS_filtered.shape"
   ]
  },
  {
   "cell_type": "markdown",
   "id": "19ad055f",
   "metadata": {},
   "source": [
    "Data Cleaning"
   ]
  },
  {
   "cell_type": "code",
   "execution_count": 27,
   "id": "90774e2a",
   "metadata": {},
   "outputs": [
    {
     "data": {
      "text/plain": [
       "(9255, 30)"
      ]
     },
     "execution_count": 27,
     "metadata": {},
     "output_type": "execute_result"
    }
   ],
   "source": [
    "non_response_values = [\".i:  Inapplicable\", \".n:  No answer\", \".d:  Do not Know/Cannot Choose\", \".s:  Skipped on Web\"]\n",
    "filtered_df = GSS_filtered.replace(non_response_values, np.nan)\n",
    "filtered_df = filtered_df[filtered_df['wrktype'].notna()]  # This is our primary dependent variable, so we need responses to this variable\n",
    "filtered_df.shape"
   ]
  },
  {
   "cell_type": "code",
   "execution_count": 28,
   "id": "02806ed1",
   "metadata": {},
   "outputs": [
    {
     "data": {
      "text/html": [
       "<div>\n",
       "<style scoped>\n",
       "    .dataframe tbody tr th:only-of-type {\n",
       "        vertical-align: middle;\n",
       "    }\n",
       "\n",
       "    .dataframe tbody tr th {\n",
       "        vertical-align: top;\n",
       "    }\n",
       "\n",
       "    .dataframe thead th {\n",
       "        text-align: right;\n",
       "    }\n",
       "</style>\n",
       "<table border=\"1\" class=\"dataframe\">\n",
       "  <thead>\n",
       "    <tr style=\"text-align: right;\">\n",
       "      <th></th>\n",
       "      <th>0</th>\n",
       "    </tr>\n",
       "  </thead>\n",
       "  <tbody>\n",
       "    <tr>\n",
       "      <th>year</th>\n",
       "      <td>0.000000</td>\n",
       "    </tr>\n",
       "    <tr>\n",
       "      <th>id_</th>\n",
       "      <td>0.000000</td>\n",
       "    </tr>\n",
       "    <tr>\n",
       "      <th>ballot</th>\n",
       "      <td>0.000000</td>\n",
       "    </tr>\n",
       "    <tr>\n",
       "      <th>happy</th>\n",
       "      <td>0.097461</td>\n",
       "    </tr>\n",
       "    <tr>\n",
       "      <th>satjob</th>\n",
       "      <td>0.096056</td>\n",
       "    </tr>\n",
       "    <tr>\n",
       "      <th>life</th>\n",
       "      <td>0.406483</td>\n",
       "    </tr>\n",
       "    <tr>\n",
       "      <th>health</th>\n",
       "      <td>0.266559</td>\n",
       "    </tr>\n",
       "    <tr>\n",
       "      <th>satfin</th>\n",
       "      <td>0.097893</td>\n",
       "    </tr>\n",
       "    <tr>\n",
       "      <th>age</th>\n",
       "      <td>0.013830</td>\n",
       "    </tr>\n",
       "    <tr>\n",
       "      <th>sex</th>\n",
       "      <td>0.000540</td>\n",
       "    </tr>\n",
       "    <tr>\n",
       "      <th>race</th>\n",
       "      <td>0.002809</td>\n",
       "    </tr>\n",
       "    <tr>\n",
       "      <th>marital</th>\n",
       "      <td>0.000864</td>\n",
       "    </tr>\n",
       "    <tr>\n",
       "      <th>educ</th>\n",
       "      <td>0.002053</td>\n",
       "    </tr>\n",
       "    <tr>\n",
       "      <th>region</th>\n",
       "      <td>0.000000</td>\n",
       "    </tr>\n",
       "    <tr>\n",
       "      <th>wrktype</th>\n",
       "      <td>0.000000</td>\n",
       "    </tr>\n",
       "    <tr>\n",
       "      <th>wrksched</th>\n",
       "      <td>0.002917</td>\n",
       "    </tr>\n",
       "    <tr>\n",
       "      <th>hrs2</th>\n",
       "      <td>0.969206</td>\n",
       "    </tr>\n",
       "    <tr>\n",
       "      <th>weekswrk</th>\n",
       "      <td>0.010481</td>\n",
       "    </tr>\n",
       "    <tr>\n",
       "      <th>indus10</th>\n",
       "      <td>0.009724</td>\n",
       "    </tr>\n",
       "    <tr>\n",
       "      <th>occ10</th>\n",
       "      <td>0.009508</td>\n",
       "    </tr>\n",
       "    <tr>\n",
       "      <th>occ10_code</th>\n",
       "      <td>0.009508</td>\n",
       "    </tr>\n",
       "    <tr>\n",
       "      <th>MPROFF</th>\n",
       "      <td>0.000000</td>\n",
       "    </tr>\n",
       "    <tr>\n",
       "      <th>MPROFF_Label</th>\n",
       "      <td>0.000000</td>\n",
       "    </tr>\n",
       "    <tr>\n",
       "      <th>conrinc</th>\n",
       "      <td>0.000000</td>\n",
       "    </tr>\n",
       "    <tr>\n",
       "      <th>wrkslf</th>\n",
       "      <td>0.000756</td>\n",
       "    </tr>\n",
       "    <tr>\n",
       "      <th>jobpromo</th>\n",
       "      <td>0.717450</td>\n",
       "    </tr>\n",
       "    <tr>\n",
       "      <th>learnnew</th>\n",
       "      <td>0.004430</td>\n",
       "    </tr>\n",
       "    <tr>\n",
       "      <th>workfast</th>\n",
       "      <td>0.005943</td>\n",
       "    </tr>\n",
       "    <tr>\n",
       "      <th>opdevel</th>\n",
       "      <td>0.010589</td>\n",
       "    </tr>\n",
       "    <tr>\n",
       "      <th>fairearn</th>\n",
       "      <td>0.027337</td>\n",
       "    </tr>\n",
       "  </tbody>\n",
       "</table>\n",
       "</div>"
      ],
      "text/plain": [
       "                     0\n",
       "year          0.000000\n",
       "id_           0.000000\n",
       "ballot        0.000000\n",
       "happy         0.097461\n",
       "satjob        0.096056\n",
       "life          0.406483\n",
       "health        0.266559\n",
       "satfin        0.097893\n",
       "age           0.013830\n",
       "sex           0.000540\n",
       "race          0.002809\n",
       "marital       0.000864\n",
       "educ          0.002053\n",
       "region        0.000000\n",
       "wrktype       0.000000\n",
       "wrksched      0.002917\n",
       "hrs2          0.969206\n",
       "weekswrk      0.010481\n",
       "indus10       0.009724\n",
       "occ10         0.009508\n",
       "occ10_code    0.009508\n",
       "MPROFF        0.000000\n",
       "MPROFF_Label  0.000000\n",
       "conrinc       0.000000\n",
       "wrkslf        0.000756\n",
       "jobpromo      0.717450\n",
       "learnnew      0.004430\n",
       "workfast      0.005943\n",
       "opdevel       0.010589\n",
       "fairearn      0.027337"
      ]
     },
     "execution_count": 28,
     "metadata": {},
     "output_type": "execute_result"
    }
   ],
   "source": [
    "missing_percent = filtered_df.isna().mean()\n",
    "pd.DataFrame(missing_percent)"
   ]
  },
  {
   "cell_type": "code",
   "execution_count": 37,
   "id": "f5d3f99b",
   "metadata": {},
   "outputs": [
    {
     "name": "stdout",
     "output_type": "stream",
     "text": [
      "(9255, 26)\n",
      "(7742, 26)\n"
     ]
    }
   ],
   "source": [
    "# Drop variables with high missingness (>20%)\n",
    "filtered_df_cleaned = filtered_df.drop(['life', 'health', 'hrs2', 'jobpromo'], axis=1)\n",
    "print(filtered_df_cleaned.shape)\n",
    "\n",
    "# To ensure analyses are based on complete survey responses, remove all remaining rows with missing values\n",
    "filtered_df_cleaned = filtered_df_cleaned.dropna()\n",
    "print(filtered_df_cleaned.shape)"
   ]
  },
  {
   "cell_type": "code",
   "execution_count": 32,
   "id": "4002ac48",
   "metadata": {},
   "outputs": [
    {
     "data": {
      "text/plain": [
       "year            0.000000\n",
       "id_             0.000000\n",
       "ballot          0.000000\n",
       "happy           0.097461\n",
       "satjob          0.096056\n",
       "satfin          0.097893\n",
       "age             0.013830\n",
       "sex             0.000540\n",
       "race            0.002809\n",
       "marital         0.000864\n",
       "educ            0.002053\n",
       "region          0.000000\n",
       "wrktype         0.000000\n",
       "wrksched        0.002917\n",
       "weekswrk        0.010481\n",
       "indus10         0.009724\n",
       "occ10           0.009508\n",
       "occ10_code      0.009508\n",
       "MPROFF          0.000000\n",
       "MPROFF_Label    0.000000\n",
       "conrinc         0.000000\n",
       "wrkslf          0.000756\n",
       "learnnew        0.004430\n",
       "workfast        0.005943\n",
       "opdevel         0.010589\n",
       "fairearn        0.027337\n",
       "dtype: float64"
      ]
     },
     "execution_count": 32,
     "metadata": {},
     "output_type": "execute_result"
    }
   ],
   "source": [
    "missing_percent_2= drop_high.isna().mean()\n",
    "missing_percent_2"
   ]
  }
 ],
 "metadata": {
  "kernelspec": {
   "display_name": "Python 3",
   "language": "python",
   "name": "python3"
  },
  "language_info": {
   "codemirror_mode": {
    "name": "ipython",
    "version": 3
   },
   "file_extension": ".py",
   "mimetype": "text/x-python",
   "name": "python",
   "nbconvert_exporter": "python",
   "pygments_lexer": "ipython3",
   "version": "3.11.9"
  }
 },
 "nbformat": 4,
 "nbformat_minor": 5
}
