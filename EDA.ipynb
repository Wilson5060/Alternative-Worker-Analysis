{
 "cells": [
  {
   "cell_type": "code",
   "execution_count": 2,
   "id": "1d01ef07",
   "metadata": {},
   "outputs": [],
   "source": [
    "import pandas as pd\n",
    "import numpy as np"
   ]
  },
  {
   "cell_type": "code",
   "execution_count": 56,
   "id": "be1e1c23",
   "metadata": {},
   "outputs": [
    {
     "name": "stdout",
     "output_type": "stream",
     "text": [
      "(17749, 60)\n"
     ]
    },
    {
     "data": {
      "text/plain": [
       "(17749, 30)"
      ]
     },
     "execution_count": 56,
     "metadata": {},
     "output_type": "execute_result"
    }
   ],
   "source": [
    "GSS = pd.read_csv(\"GSS.csv\")\n",
    "pd.set_option('display.max_columns', None)\n",
    "print(GSS.shape)\n",
    "GSS.head(2)\n",
    "\n",
    "# Selecting relevant variables\n",
    "columns_to_keep = ['year', 'id_', 'ballot', # Identifiers\n",
    "    'happy', 'satjob', 'life', 'health', 'satfin',  # Satisfaction-related columns\n",
    "    'age', 'sex', 'race', 'marital', 'educ', 'region',  # Demographics\n",
    "    'wrktype', 'wrksched', 'hrs2', 'weekswrk', 'indus10', 'occ10', 'occ10_code', 'MPROFF', 'MPROFF_Label', 'conrinc', 'wrkslf',  # Work info\n",
    "    'jobpromo', 'learnnew', 'workfast', 'opdevel', 'fairearn']  # Job quality\n",
    "\n",
    "GSS_filtered= GSS[columns_to_keep]\n",
    "GSS_filtered.shape"
   ]
  },
  {
   "cell_type": "markdown",
   "id": "19ad055f",
   "metadata": {},
   "source": [
    "Data Cleaning"
   ]
  },
  {
   "cell_type": "code",
   "execution_count": 57,
   "id": "e806f68a",
   "metadata": {},
   "outputs": [
    {
     "data": {
      "text/plain": [
       "(17749, 28)"
      ]
     },
     "execution_count": 57,
     "metadata": {},
     "output_type": "execute_result"
    }
   ],
   "source": [
    "# Replaces all non-response values with N/A\n",
    "non_response_values = [\".i:  Inapplicable\", \".n:  No answer\", \".d:  Do not Know/Cannot Choose\", \".s:  Skipped on Web\"]\n",
    "GSS_filtered = GSS_filtered.replace(non_response_values, np.nan)\n",
    "\n",
    "GSS_filtered[GSS_filtered['wrktype'].notna()] #This is our primary dependent variable, so we need responses to this question\n",
    "\n",
    "missing_percent = GSS_filtered.isna().mean()\n",
    "#print(missing_percent)\n",
    "GSS_filtered = GSS_filtered.drop(['life', 'health'], axis=1)\n",
    "# remove columns with excessive missing responses\n",
    "GSS_filtered.shape\n"
   ]
  }
 ],
 "metadata": {
  "kernelspec": {
   "display_name": "Python 3",
   "language": "python",
   "name": "python3"
  },
  "language_info": {
   "codemirror_mode": {
    "name": "ipython",
    "version": 3
   },
   "file_extension": ".py",
   "mimetype": "text/x-python",
   "name": "python",
   "nbconvert_exporter": "python",
   "pygments_lexer": "ipython3",
   "version": "3.11.9"
  }
 },
 "nbformat": 4,
 "nbformat_minor": 5
}
